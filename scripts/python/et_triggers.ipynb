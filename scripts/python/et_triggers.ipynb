{
 "cells": [
  {
   "cell_type": "markdown",
   "metadata": {},
   "source": [
    "# Eyetracker Triggers Exploration"
   ]
  },
  {
   "cell_type": "code",
   "execution_count": 3,
   "metadata": {},
   "outputs": [
    {
     "name": "stdout",
     "output_type": "stream",
     "text": [
      "pygame 2.1.2 (SDL 2.0.18, Python 3.8.10)\n",
      "Hello from the pygame community. https://www.pygame.org/contribute.html\n"
     ]
    }
   ],
   "source": [
    "from bcipy.helpers.triggers import TriggerType, trigger_decoder, TriggerHandler, Trigger\n",
    "from bcipy.helpers.raw_data import load\n",
    "import matplotlib.pyplot as plt"
   ]
  },
  {
   "cell_type": "markdown",
   "metadata": {},
   "source": [
    "### Set the paths to your data"
   ]
  },
  {
   "cell_type": "code",
   "execution_count": 19,
   "metadata": {},
   "outputs": [],
   "source": [
    "data_folder = \"C:/Users/tabme/OneDrive/Desktop/test_serving_lsl_et_eeg/test_serving_lsl_et_eeg_RSVP_Calibration_Thu_24_Aug_2023_15hr16min09sec_-0700\"\n",
    "trigger_file_name = 'triggers.txt'\n",
    "file_name = 'eyetracker_data_tobii_nano.csv'"
   ]
  },
  {
   "cell_type": "markdown",
   "metadata": {},
   "source": [
    "### Read in trigger data"
   ]
  },
  {
   "cell_type": "code",
   "execution_count": 20,
   "metadata": {},
   "outputs": [],
   "source": [
    "# Read triggers.\n",
    "# \n",
    "# NOTE: that the first line in the triggers.txt file should be the starting_offset\n",
    "# and that the timestamp should be set to the lsl_timestamp of the first row in the eyetracker data\n",
    "# ex. starting_offset offset -799951.3024919\n",
    "sample_rate = 60\n",
    "offset = -.49\n",
    "exclude_trigger_types = [TriggerType.PREVIEW, TriggerType.EVENT, TriggerType.FIXATION, TriggerType.PROMPT, TriggerType.SYSTEM, TriggerType.OFFSET]\n",
    "targetness, timing, symbols = trigger_decoder(offset=0.0, trigger_path=f\"{data_folder}/{trigger_file_name}\",  exclusion=exclude_trigger_types)\n",
    "\n",
    "# sample number in data for each trigger\n",
    "triggers = list(map(lambda x: int((x + offset) * sample_rate), timing))"
   ]
  },
  {
   "cell_type": "code",
   "execution_count": 21,
   "metadata": {},
   "outputs": [],
   "source": [
    "# Read in raw trigger data with the lsl_timestamps.\n",
    "\n",
    "raw_triggers = []\n",
    "with open(f\"{data_folder}/{trigger_file_name}\", encoding=TriggerHandler.encoding) as raw_txt:\n",
    "    for i, line in enumerate(raw_txt):\n",
    "        trg = Trigger.from_list(line.split())\n",
    "        if trg.type not in exclude_trigger_types:\n",
    "            raw_triggers.append(trg)\n",
    "\n",
    "assert len(raw_triggers) == len(triggers), \"Error reading raw_triggers\""
   ]
  },
  {
   "cell_type": "markdown",
   "metadata": {},
   "source": [
    "### Read data into a dataframe"
   ]
  },
  {
   "cell_type": "code",
   "execution_count": 22,
   "metadata": {},
   "outputs": [],
   "source": [
    "data = load(f\"{data_folder}/{file_name}\")\n",
    "df = data.dataframe"
   ]
  },
  {
   "cell_type": "markdown",
   "metadata": {},
   "source": [
    "### Define functions"
   ]
  },
  {
   "cell_type": "code",
   "execution_count": 23,
   "metadata": {},
   "outputs": [],
   "source": [
    "def closest(dataframe, timestamp):\n",
    "    \"\"\"Find the closest row based on the lsl_timestamp\"\"\"\n",
    "    return dataframe[dataframe['lsl_timestamp'] >= timestamp].min()\n",
    "\n",
    "def find_sample(dataframe, sample_number):\n",
    "    \"\"\"Find the row based on the sample number\"\"\"\n",
    "    return dataframe[dataframe['timestamp'] == sample_number].iloc[0]"
   ]
  },
  {
   "cell_type": "code",
   "execution_count": 24,
   "metadata": {},
   "outputs": [
    {
     "data": {
      "text/plain": [
       "(nan, nan)"
      ]
     },
     "execution_count": 24,
     "metadata": {},
     "output_type": "execute_result"
    }
   ],
   "source": [
    "# Test out the closest function\n",
    "stamp = 800004.3112636\n",
    "row = closest(df, stamp)\n",
    "row['timestamp'], row['lsl_timestamp']"
   ]
  },
  {
   "cell_type": "code",
   "execution_count": 25,
   "metadata": {},
   "outputs": [
    {
     "name": "stdout",
     "output_type": "stream",
     "text": [
      "0.016666666666666666\n"
     ]
    },
    {
     "data": {
      "image/png": "[encoded data removed]",
      "text/plain": [
       "<Figure size 640x480 with 1 Axes>"
      ]
     },
     "metadata": {},
     "output_type": "display_data"
    }
   ],
   "source": [
    "# compute the difference in value between all lsl_timestamps and the previous lsl_timestamp\n",
    "diffs = []\n",
    "prev_stamp = None\n",
    "for stamp in df['lsl_timestamp']:\n",
    "    if prev_stamp is None:\n",
    "        prev_stamp = stamp\n",
    "        continue\n",
    "    diff = stamp - prev_stamp\n",
    "    prev_stamp = stamp\n",
    "    diffs.append(diff)\n",
    "\n",
    "# plot the diffs\n",
    "plt.plot(diffs)\n",
    "# print(diffs)\n",
    "print(1/sample_rate)\n"
   ]
  },
  {
   "cell_type": "code",
   "execution_count": 26,
   "metadata": {},
   "outputs": [
    {
     "data": {
      "text/plain": [
       "(3180.0, 190090.6217104)"
      ]
     },
     "execution_count": 26,
     "metadata": {},
     "output_type": "execute_result"
    }
   ],
   "source": [
    "# Test find_sample function\n",
    "sample = find_sample(df, 3180)\n",
    "sample['timestamp'], sample['lsl_timestamp']"
   ]
  },
  {
   "cell_type": "code",
   "execution_count": 27,
   "metadata": {},
   "outputs": [
    {
     "data": {
      "text/plain": [
       "[409, 424, 440, 455, 470, 486, 501, 516, 532, 547]"
      ]
     },
     "execution_count": 27,
     "metadata": {},
     "output_type": "execute_result"
    }
   ],
   "source": [
    "triggers[0:10]"
   ]
  },
  {
   "cell_type": "code",
   "execution_count": 28,
   "metadata": {},
   "outputs": [
    {
     "data": {
      "text/plain": [
       "[Trigger: label=[G] type=[nontarget] time=[190043.9399267],\n",
       " Trigger: label=[W] type=[nontarget] time=[190044.195431],\n",
       " Trigger: label=[R] type=[nontarget] time=[190044.4496874],\n",
       " Trigger: label=[M] type=[nontarget] time=[190044.7045467],\n",
       " Trigger: label=[Y] type=[nontarget] time=[190044.9603122],\n",
       " Trigger: label=[_] type=[target] time=[190045.2145699],\n",
       " Trigger: label=[O] type=[nontarget] time=[190045.4703106],\n",
       " Trigger: label=[H] type=[nontarget] time=[190045.7241949],\n",
       " Trigger: label=[S] type=[nontarget] time=[190045.9791043],\n",
       " Trigger: label=[D] type=[nontarget] time=[190046.233338]]"
      ]
     },
     "execution_count": 28,
     "metadata": {},
     "output_type": "execute_result"
    }
   ],
   "source": [
    "raw_triggers[0:10]"
   ]
  },
  {
   "cell_type": "markdown",
   "metadata": {},
   "source": [
    "### Define output data structure"
   ]
  },
  {
   "cell_type": "code",
   "execution_count": 29,
   "metadata": {},
   "outputs": [],
   "source": [
    "from typing import NamedTuple\n",
    "\n",
    "class Row(NamedTuple):\n",
    "    label: str\n",
    "    target_type: str\n",
    "    trigger_timestamp: float\n",
    "    computed_sample_number: int\n",
    "    computed_sample_number_timestamp: float\n",
    "    closest_sample_number: float # found based on closest lsl_timestamp to trigger\n",
    "    closest_sample_number_timestamp: float"
   ]
  },
  {
   "cell_type": "markdown",
   "metadata": {},
   "source": [
    "### Populate data for analysis"
   ]
  },
  {
   "cell_type": "code",
   "execution_count": 30,
   "metadata": {},
   "outputs": [],
   "source": [
    "import pandas as pd\n",
    "\n",
    "data = []\n",
    "for i, trg in enumerate(raw_triggers):\n",
    "    try:\n",
    "        sample_record = find_sample(df, triggers[i])\n",
    "        closest_record = closest(df, trg.time)\n",
    "        data.append({\n",
    "            'label': trg.label, \n",
    "            'target_type': trg.type,\n",
    "            'trigger_timestamp': trg.time,\n",
    "            'computed_sample': triggers[i],\n",
    "            'computed_sample_timestamp': sample_record['lsl_timestamp'],\n",
    "            'closest_sample': closest_record['timestamp'],\n",
    "            'closest_sample_timestamp': closest_record['lsl_timestamp']\n",
    "        })\n",
    "    except IndexError:\n",
    "        pass\n",
    "\n",
    "analysis_df = pd.DataFrame.from_records(data)"
   ]
  },
  {
   "cell_type": "code",
   "execution_count": 31,
   "metadata": {},
   "outputs": [
    {
     "data": {
      "text/html": [
       "<div>\n",
       "<style scoped>\n",
       "    .dataframe tbody tr th:only-of-type {\n",
       "        vertical-align: middle;\n",
       "    }\n",
       "\n",
       "    .dataframe tbody tr th {\n",
       "        vertical-align: top;\n",
       "    }\n",
       "\n",
       "    .dataframe thead th {\n",
       "        text-align: right;\n",
       "    }\n",
       "</style>\n",
       "<table border=\"1\" class=\"dataframe\">\n",
       "  <thead>\n",
       "    <tr style=\"text-align: right;\">\n",
       "      <th></th>\n",
       "      <th>label</th>\n",
       "      <th>target_type</th>\n",
       "      <th>trigger_timestamp</th>\n",
       "      <th>computed_sample</th>\n",
       "      <th>computed_sample_timestamp</th>\n",
       "      <th>closest_sample</th>\n",
       "      <th>closest_sample_timestamp</th>\n",
       "      <th>sample_diff</th>\n",
       "      <th>time_diff</th>\n",
       "    </tr>\n",
       "  </thead>\n",
       "  <tbody>\n",
       "    <tr>\n",
       "      <th>0</th>\n",
       "      <td>G</td>\n",
       "      <td>nontarget</td>\n",
       "      <td>190043.939927</td>\n",
       "      <td>409</td>\n",
       "      <td>190044.438710</td>\n",
       "      <td>380.0</td>\n",
       "      <td>190043.954365</td>\n",
       "      <td>-29.0</td>\n",
       "      <td>-0.484345</td>\n",
       "    </tr>\n",
       "    <tr>\n",
       "      <th>1</th>\n",
       "      <td>W</td>\n",
       "      <td>nontarget</td>\n",
       "      <td>190044.195431</td>\n",
       "      <td>424</td>\n",
       "      <td>190044.688746</td>\n",
       "      <td>395.0</td>\n",
       "      <td>190044.203964</td>\n",
       "      <td>-29.0</td>\n",
       "      <td>-0.484782</td>\n",
       "    </tr>\n",
       "    <tr>\n",
       "      <th>2</th>\n",
       "      <td>R</td>\n",
       "      <td>nontarget</td>\n",
       "      <td>190044.449687</td>\n",
       "      <td>440</td>\n",
       "      <td>190044.955571</td>\n",
       "      <td>410.0</td>\n",
       "      <td>190044.453885</td>\n",
       "      <td>-30.0</td>\n",
       "      <td>-0.501686</td>\n",
       "    </tr>\n",
       "    <tr>\n",
       "      <th>3</th>\n",
       "      <td>M</td>\n",
       "      <td>nontarget</td>\n",
       "      <td>190044.704547</td>\n",
       "      <td>455</td>\n",
       "      <td>190045.204853</td>\n",
       "      <td>425.0</td>\n",
       "      <td>190044.704735</td>\n",
       "      <td>-30.0</td>\n",
       "      <td>-0.500117</td>\n",
       "    </tr>\n",
       "    <tr>\n",
       "      <th>4</th>\n",
       "      <td>Y</td>\n",
       "      <td>nontarget</td>\n",
       "      <td>190044.960312</td>\n",
       "      <td>470</td>\n",
       "      <td>190045.455419</td>\n",
       "      <td>441.0</td>\n",
       "      <td>190044.971107</td>\n",
       "      <td>-29.0</td>\n",
       "      <td>-0.484312</td>\n",
       "    </tr>\n",
       "    <tr>\n",
       "      <th>...</th>\n",
       "      <td>...</td>\n",
       "      <td>...</td>\n",
       "      <td>...</td>\n",
       "      <td>...</td>\n",
       "      <td>...</td>\n",
       "      <td>...</td>\n",
       "      <td>...</td>\n",
       "      <td>...</td>\n",
       "      <td>...</td>\n",
       "    </tr>\n",
       "    <tr>\n",
       "      <th>995</th>\n",
       "      <td>Z</td>\n",
       "      <td>nontarget</td>\n",
       "      <td>190847.403402</td>\n",
       "      <td>48617</td>\n",
       "      <td>190847.905282</td>\n",
       "      <td>48587.0</td>\n",
       "      <td>190847.404689</td>\n",
       "      <td>-30.0</td>\n",
       "      <td>-0.500593</td>\n",
       "    </tr>\n",
       "    <tr>\n",
       "      <th>996</th>\n",
       "      <td>H</td>\n",
       "      <td>nontarget</td>\n",
       "      <td>190847.659172</td>\n",
       "      <td>48632</td>\n",
       "      <td>190848.155517</td>\n",
       "      <td>48603.0</td>\n",
       "      <td>190847.671680</td>\n",
       "      <td>-29.0</td>\n",
       "      <td>-0.483837</td>\n",
       "    </tr>\n",
       "    <tr>\n",
       "      <th>997</th>\n",
       "      <td>P</td>\n",
       "      <td>nontarget</td>\n",
       "      <td>190847.914084</td>\n",
       "      <td>48648</td>\n",
       "      <td>190848.421999</td>\n",
       "      <td>48618.0</td>\n",
       "      <td>190847.921612</td>\n",
       "      <td>-30.0</td>\n",
       "      <td>-0.500387</td>\n",
       "    </tr>\n",
       "    <tr>\n",
       "      <th>998</th>\n",
       "      <td>F</td>\n",
       "      <td>nontarget</td>\n",
       "      <td>190848.168173</td>\n",
       "      <td>48663</td>\n",
       "      <td>190848.672088</td>\n",
       "      <td>48633.0</td>\n",
       "      <td>190848.171499</td>\n",
       "      <td>-30.0</td>\n",
       "      <td>-0.500589</td>\n",
       "    </tr>\n",
       "    <tr>\n",
       "      <th>999</th>\n",
       "      <td>O</td>\n",
       "      <td>nontarget</td>\n",
       "      <td>190848.423009</td>\n",
       "      <td>48678</td>\n",
       "      <td>190848.920524</td>\n",
       "      <td>48649.0</td>\n",
       "      <td>190848.438027</td>\n",
       "      <td>-29.0</td>\n",
       "      <td>-0.482496</td>\n",
       "    </tr>\n",
       "  </tbody>\n",
       "</table>\n",
       "<p>1000 rows × 9 columns</p>\n",
       "</div>"
      ],
      "text/plain": [
       "    label target_type  trigger_timestamp  computed_sample  \\\n",
       "0       G   nontarget      190043.939927              409   \n",
       "1       W   nontarget      190044.195431              424   \n",
       "2       R   nontarget      190044.449687              440   \n",
       "3       M   nontarget      190044.704547              455   \n",
       "4       Y   nontarget      190044.960312              470   \n",
       "..    ...         ...                ...              ...   \n",
       "995     Z   nontarget      190847.403402            48617   \n",
       "996     H   nontarget      190847.659172            48632   \n",
       "997     P   nontarget      190847.914084            48648   \n",
       "998     F   nontarget      190848.168173            48663   \n",
       "999     O   nontarget      190848.423009            48678   \n",
       "\n",
       "     computed_sample_timestamp  closest_sample  closest_sample_timestamp  \\\n",
       "0                190044.438710           380.0             190043.954365   \n",
       "1                190044.688746           395.0             190044.203964   \n",
       "2                190044.955571           410.0             190044.453885   \n",
       "3                190045.204853           425.0             190044.704735   \n",
       "4                190045.455419           441.0             190044.971107   \n",
       "..                         ...             ...                       ...   \n",
       "995              190847.905282         48587.0             190847.404689   \n",
       "996              190848.155517         48603.0             190847.671680   \n",
       "997              190848.421999         48618.0             190847.921612   \n",
       "998              190848.672088         48633.0             190848.171499   \n",
       "999              190848.920524         48649.0             190848.438027   \n",
       "\n",
       "     sample_diff  time_diff  \n",
       "0          -29.0  -0.484345  \n",
       "1          -29.0  -0.484782  \n",
       "2          -30.0  -0.501686  \n",
       "3          -30.0  -0.500117  \n",
       "4          -29.0  -0.484312  \n",
       "..           ...        ...  \n",
       "995        -30.0  -0.500593  \n",
       "996        -29.0  -0.483837  \n",
       "997        -30.0  -0.500387  \n",
       "998        -30.0  -0.500589  \n",
       "999        -29.0  -0.482496  \n",
       "\n",
       "[1000 rows x 9 columns]"
      ]
     },
     "execution_count": 31,
     "metadata": {},
     "output_type": "execute_result"
    }
   ],
   "source": [
    "# Add computed columns\n",
    "analysis_df['sample_diff'] = analysis_df.closest_sample - analysis_df.computed_sample\n",
    "analysis_df['time_diff'] = analysis_df.closest_sample_timestamp - analysis_df.computed_sample_timestamp\n",
    "analysis_df"
   ]
  },
  {
   "cell_type": "code",
   "execution_count": 32,
   "metadata": {},
   "outputs": [
    {
     "data": {
      "text/plain": [
       "count    1000.000000\n",
       "mean       -0.493657\n",
       "std         0.008158\n",
       "min        -0.501804\n",
       "25%        -0.500422\n",
       "50%        -0.499687\n",
       "75%        -0.483859\n",
       "max        -0.481452\n",
       "Name: time_diff, dtype: float64"
      ]
     },
     "execution_count": 32,
     "metadata": {},
     "output_type": "execute_result"
    }
   ],
   "source": [
    "# Plot\n",
    "analysis_df['time_diff'].describe()"
   ]
  },
  {
   "cell_type": "code",
   "execution_count": 33,
   "metadata": {},
   "outputs": [
    {
     "data": {
      "text/plain": [
       "<AxesSubplot:title={'center':'Time Diffs'}, xlabel='trigger number', ylabel='time diff (closest - computed)'>"
      ]
     },
     "execution_count": 33,
     "metadata": {},
     "output_type": "execute_result"
    },
    {
     "data": {
      "image/png": "[encoded data removed]",
      "text/plain": [
       "<Figure size 640x480 with 1 Axes>"
      ]
     },
     "metadata": {},
     "output_type": "display_data"
    }
   ],
   "source": [
    "analysis_df['time_diff'].plot(kind='line', xlabel='trigger number', ylabel='time diff (closest - computed)', title='Time Diffs')"
   ]
  }
 ],
 "metadata": {
  "kernelspec": {
   "display_name": "venv",
   "language": "python",
   "name": "python3"
  },
  "language_info": {
   "codemirror_mode": {
    "name": "ipython",
    "version": 3
   },
   "file_extension": ".py",
   "mimetype": "text/x-python",
   "name": "python",
   "nbconvert_exporter": "python",
   "pygments_lexer": "ipython3",
   "version": "3.8.10"
  },
  "orig_nbformat": 4
 },
 "nbformat": 4,
 "nbformat_minor": 2
}
